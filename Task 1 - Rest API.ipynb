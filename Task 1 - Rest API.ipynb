{
 "cells": [
  {
   "cell_type": "code",
   "execution_count": 1,
   "id": "internal-communist",
   "metadata": {},
   "outputs": [],
   "source": [
    "import requests"
   ]
  },
  {
   "cell_type": "code",
   "execution_count": 2,
   "id": "governmental-bhutan",
   "metadata": {},
   "outputs": [],
   "source": [
    "base_url =\"https://peter-htet.outsystemscloud.com/ITDInterviews/rest/Users/\""
   ]
  },
  {
   "cell_type": "markdown",
   "id": "exciting-madison",
   "metadata": {},
   "source": [
    "### Create functions"
   ]
  },
  {
   "cell_type": "code",
   "execution_count": 3,
   "id": "optical-hopkins",
   "metadata": {},
   "outputs": [],
   "source": [
    "def get_all_users():\n",
    "    x = requests.get(base_url+'GetAllUsers')\n",
    "    print(x.text,x.status_code, x.reason)"
   ]
  },
  {
   "cell_type": "code",
   "execution_count": 4,
   "id": "29acd021",
   "metadata": {},
   "outputs": [],
   "source": [
    "def get_a_user(name):\n",
    "    x = requests.get(base_url+'GetUser?name='+name)\n",
    "    print(x.text,x.status_code, x.reason)"
   ]
  },
  {
   "cell_type": "code",
   "execution_count": 5,
   "id": "1faa77c7",
   "metadata": {},
   "outputs": [],
   "source": [
    "def delete_a_user(_id):\n",
    "    x = requests.get(base_url+'DeleteUser?id='+_id)\n",
    "    print(x.text,x.status_code, x.reason)"
   ]
  },
  {
   "cell_type": "code",
   "execution_count": 6,
   "id": "8aa8154c",
   "metadata": {},
   "outputs": [],
   "source": [
    "def post_a_user(data):\n",
    "    x = requests.post(base_url+\"AddUpdateUser\", json=data)\n",
    "    print(x.text,x.status_code, x.reason)"
   ]
  },
  {
   "cell_type": "markdown",
   "id": "831b0490",
   "metadata": {},
   "source": [
    "### Get all users"
   ]
  },
  {
   "cell_type": "code",
   "execution_count": 8,
   "id": "3fde7dbb",
   "metadata": {},
   "outputs": [
    {
     "name": "stdout",
     "output_type": "stream",
     "text": [
      "[{\"Id\":2,\"name\":\"John\",\"email\":\"john@test.com\",\"password\":\"827ccb0eea8a706c4c34a16891f84e7b\",\"phone\":\"92207092\"},{\"Id\":36,\"name\":\"Ryan\",\"email\":\"ylt@gm.com\",\"password\":\"abc\",\"phone\":\"98694945\"},{\"Id\":43,\"name\":\"RandyTest\",\"email\":\"Randy@email.com\",\"password\":\"74d016fd62b3deddac39d79d7c49d83f\",\"phone\":\"92207092\"},{\"Id\":44,\"name\":\"PeterTest\",\"email\":\"iceunicorn007@gmail.com\",\"password\":\"74d016fd62b3deddac39d79d7c49d83f\",\"phone\":\"92207092\"},{\"Id\":45,\"name\":\"TestABC\",\"email\":\"testabc@text.com\",\"password\":\"?\\n?9I?Y??V?W?\\u000f?>\",\"phone\":\"123456\"},{\"Id\":54,\"name\":\"calvin\",\"email\":\"email@newzealot.com\",\"password\":\"calvin\",\"phone\":\"8888\"},{\"Id\":58,\"name\":\"calvin2\",\"email\":\"hasd@dsaf.com\",\"password\":\"8888\",\"phone\":\"888\"},{\"Id\":61,\"name\":\"sxtesting\",\"email\":\"teng_shi_xuan@jtc.gov.sg\",\"password\":\"shixuanP@ssw0rd\",\"phone\":\"12345678\"},{\"Id\":73,\"name\":\"wtbhappy\",\"email\":\"wtbhappy@gmail.com\",\"password\":\"e8dc4081b13434b45189a720b77b6818\",\"phone\":\"91826891\"},{\"Id\":77,\"name\":\"Tony Stark\",\"email\":\"sa@gmail.com\",\"password\":\"strsdjfbsxxxxxxdkfbskfjbing\",\"phone\":\"12345678\"},{\"Id\":79,\"name\":\"Kill Stark\",\"email\":\"sa@gmail.com\",\"password\":\"strsdjfbsxxxxxxdkfbskfjbing\",\"phone\":\"12345678\"},{\"Id\":80,\"name\":\"Batman\",\"email\":\"sa@gmail.com\",\"password\":\"strsdjfbsxxxxxxdkfbskfjbing\",\"phone\":\"12345678\"}] 200 OK\n"
     ]
    }
   ],
   "source": [
    "get_all_users()"
   ]
  },
  {
   "cell_type": "markdown",
   "id": "6be8580c",
   "metadata": {},
   "source": [
    "### Add new user"
   ]
  },
  {
   "cell_type": "markdown",
   "id": "efbba459",
   "metadata": {},
   "source": [
    "Note : Id should be 0 inorder to create new user"
   ]
  },
  {
   "cell_type": "code",
   "execution_count": 9,
   "id": "921b056c",
   "metadata": {},
   "outputs": [],
   "source": [
    "data = {\"Id\": 0, \"name\": \"Bruce\", \"email\": \"sa@gmail.com\", \"password\": \"strsdjfbsxxxxxxdkfbskfjbing\",\"phone\": \"12345678\"}"
   ]
  },
  {
   "cell_type": "code",
   "execution_count": 10,
   "id": "moved-committee",
   "metadata": {},
   "outputs": [
    {
     "name": "stdout",
     "output_type": "stream",
     "text": [
      "{\"Message\":\"User (Bruce) created with ID 81\",\"IsSuccess\":true} 200 OK\n"
     ]
    }
   ],
   "source": [
    "post_a_user(data)"
   ]
  },
  {
   "cell_type": "markdown",
   "id": "1e98ff5d",
   "metadata": {},
   "source": [
    "### Get user by name"
   ]
  },
  {
   "cell_type": "code",
   "execution_count": 11,
   "id": "opened-reunion",
   "metadata": {},
   "outputs": [
    {
     "name": "stdout",
     "output_type": "stream",
     "text": [
      "{\"Id\":81,\"name\":\"Bruce\",\"email\":\"sa@gmail.com\",\"password\":\"strsdjfbsxxxxxxdkfbskfjbing\",\"phone\":\"12345678\"} 200 OK\n"
     ]
    }
   ],
   "source": [
    "get_a_user(\"Bruce\")"
   ]
  },
  {
   "cell_type": "markdown",
   "id": "6c9106de",
   "metadata": {},
   "source": [
    "### Update user "
   ]
  },
  {
   "cell_type": "code",
   "execution_count": 12,
   "id": "3f0084ca",
   "metadata": {},
   "outputs": [],
   "source": [
    "data = {\"Id\": 80, \"name\": \"Bruce Wayne\", \"email\": \"sa@gmail.com\", \"password\": \"strsdjfbsxxxxxxdkfbskfjbing\",\"phone\": \"12345678\"}"
   ]
  },
  {
   "cell_type": "code",
   "execution_count": 13,
   "id": "0475f431",
   "metadata": {},
   "outputs": [
    {
     "name": "stdout",
     "output_type": "stream",
     "text": [
      "{\"Message\":\"User (Bruce Wayne) updated with ID 80\",\"IsSuccess\":true} 200 OK\n"
     ]
    }
   ],
   "source": [
    "post_a_user(data)"
   ]
  },
  {
   "cell_type": "markdown",
   "id": "f507f3ad",
   "metadata": {},
   "source": [
    "### Delete user by ID"
   ]
  },
  {
   "cell_type": "code",
   "execution_count": 14,
   "id": "expressed-asbestos",
   "metadata": {},
   "outputs": [
    {
     "name": "stdout",
     "output_type": "stream",
     "text": [
      "{\"Message\":\"User with ID 80 deleted\",\"IsSuccess\":true} 200 OK\n"
     ]
    }
   ],
   "source": [
    "delete_a_user(\"80\")"
   ]
  }
 ],
 "metadata": {
  "kernelspec": {
   "display_name": "Python 3",
   "language": "python",
   "name": "python3"
  },
  "language_info": {
   "codemirror_mode": {
    "name": "ipython",
    "version": 3
   },
   "file_extension": ".py",
   "mimetype": "text/x-python",
   "name": "python",
   "nbconvert_exporter": "python",
   "pygments_lexer": "ipython3",
   "version": "3.8.3"
  }
 },
 "nbformat": 4,
 "nbformat_minor": 5
}
